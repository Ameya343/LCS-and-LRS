{
 "cells": [
  {
   "cell_type": "markdown",
   "id": "e03c258a-ff76-493a-a425-83cd4de9c940",
   "metadata": {},
   "source": [
    "## PRACTICAL - 5\n",
    "### NAME : AMEYA INGOLE\n",
    "### A4-B4-63\n"
   ]
  },
  {
   "cell_type": "markdown",
   "id": "e276a929-cd1f-49d6-b52a-6158410aac9c",
   "metadata": {},
   "source": [
    "### PART A : LCS"
   ]
  },
  {
   "cell_type": "code",
   "execution_count": 5,
   "id": "44a47da2-bc43-4250-80ff-6b0bcc1c4dda",
   "metadata": {},
   "outputs": [
    {
     "name": "stdout",
     "output_type": "stream",
     "text": [
      "Length of LCS: 4\n"
     ]
    }
   ],
   "source": [
    "def lcs_length(X, Y):\n",
    "    m, n = len(X), len(Y)\n",
    "    C = [[0] * (n + 1) for _ in range(m + 1)]\n",
    "\n",
    "    for i in range(1, m + 1):\n",
    "        for j in range(1, n + 1):\n",
    "            if X[i - 1] == Y[j - 1]:\n",
    "                C[i][j] = C[i - 1][j - 1] + 1\n",
    "            else:\n",
    "                C[i][j] = max(C[i - 1][j], C[i][j - 1])\n",
    "\n",
    "    return C[m][n]\n",
    "X = \"STRONG\"\n",
    "Y = \"WRONG\"\n",
    "\n",
    "print(\"Length of LCS:\", lcs_length(X, Y))"
   ]
  },
  {
   "cell_type": "markdown",
   "id": "07e90bcc-f2c4-450d-9a6d-6a0dfd40db9f",
   "metadata": {},
   "source": [
    "### PART B : LRS"
   ]
  },
  {
   "cell_type": "code",
   "execution_count": 7,
   "id": "040933e0-07a7-4725-8bd0-d6b4e95a2ecc",
   "metadata": {},
   "outputs": [
    {
     "name": "stdout",
     "output_type": "stream",
     "text": [
      "Length of LRS: 1\n"
     ]
    }
   ],
   "source": [
    "def longest_repeating_subseq(S):\n",
    "    n = len(S)\n",
    "    dp = [[0] * (n + 1) for _ in range(n + 1)]\n",
    "\n",
    "    for i in range(1, n + 1):\n",
    "        for j in range(1, n + 1):\n",
    "            if S[i - 1] == S[j - 1] and i != j:\n",
    "                dp[i][j] = 1 + dp[i - 1][j - 1]\n",
    "            else:\n",
    "                dp[i][j] = max(dp[i - 1][j], dp[i][j - 1])\n",
    "\n",
    "    return dp[n][n]\n",
    "S = \"APPLE\"\n",
    "print(\"Length of LRS:\", longest_repeating_subseq(S))"
   ]
  }
 ],
 "metadata": {
  "kernelspec": {
   "display_name": "Python 3 (ipykernel)",
   "language": "python",
   "name": "python3"
  },
  "language_info": {
   "codemirror_mode": {
    "name": "ipython",
    "version": 3
   },
   "file_extension": ".py",
   "mimetype": "text/x-python",
   "name": "python",
   "nbconvert_exporter": "python",
   "pygments_lexer": "ipython3",
   "version": "3.12.7"
  }
 },
 "nbformat": 4,
 "nbformat_minor": 5
}
